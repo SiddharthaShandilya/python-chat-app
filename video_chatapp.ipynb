{
 "cells": [
  {
   "cell_type": "code",
   "execution_count": 1,
   "metadata": {},
   "outputs": [],
   "source": [
    "import socket\n",
    "import threading\n"
   ]
  },
  {
   "cell_type": "code",
   "execution_count": 2,
   "metadata": {},
   "outputs": [],
   "source": [
    "s = socket.socket(socket.AF_INET, socket.SOCK_DGRAM)\n",
    "global_senderIp = 0\n",
    "message = 0"
   ]
  },
  {
   "cell_type": "code",
   "execution_count": 3,
   "metadata": {},
   "outputs": [],
   "source": [
    "def reciever(userIp,userPort):\n",
    "    \n",
    "    s.setsockopt(socket.SOL_SOCKET, socket.SO_REUSEADDR, 1)\n",
    "    s.bind((userIp,userPort))\n",
    "    while True:\n",
    "        x = s.recvfrom(1024)\n",
    "        senderIp = x[1][0]\n",
    "        senderMessage = x[0].decode()\n",
    "        print(\"\\t\"+senderIp+\"  :  \"+senderMessage)\n",
    "        #print(x)\n",
    "        global_senderIp = senderIp\n"
   ]
  },
  {
   "cell_type": "code",
   "execution_count": 4,
   "metadata": {},
   "outputs": [],
   "source": [
    "def sender(senderIp):\n",
    "    if(senderIp==0):\n",
    "        senderIP = input(\"Enter the IP address of the reciever\\t -->  \")\n",
    "    #try:\n",
    "        \n",
    "     #   message= input(\"\\t message ->\\t\")\n",
    "        \n",
    "    #except EOFError as e:\n",
    "     #   print(\"Timeout\")\n",
    "    #s.sendto(message.encode(),(senderIp,1234))\n",
    "    try:\n",
    "        s.sendto(input(\"\\t message ->\\t\").encode(),(senderIp,1234))\n",
    "    except:\n",
    "        s.sendto(input(\"\\t message ->\\t\").encode(),(senderIp,1234))\n",
    "        "
   ]
  },
  {
   "cell_type": "code",
   "execution_count": 5,
   "metadata": {},
   "outputs": [],
   "source": [
    "def findIp():   \n",
    "    hostname = socket.gethostname()    \n",
    "    hostIp = socket.gethostbyname(hostname)    \n",
    "    #print(\"Your Computer Name is:\" + hostname)    \n",
    "    return(hostIp)\n"
   ]
  },
  {
   "cell_type": "code",
   "execution_count": 6,
   "metadata": {},
   "outputs": [],
   "source": [
    "def startChat():\n",
    "    userIp = findIp()\n",
    "    userPort = 1234\n",
    "    print(\"Your Computer IP is:\\t\" + userIp)\n",
    "    \n",
    "    send = threading.Thread(target = sender, args=(global_senderIp,))\n",
    "    recieve = threading.Thread(target = reciever, args=(userIp,userPort,))\n",
    "    send.start()\n",
    "    recieve.start()\n",
    "    #sender()"
   ]
  },
  {
   "cell_type": "code",
   "execution_count": 7,
   "metadata": {},
   "outputs": [],
   "source": [
    "def startChat():\n",
    "    userIp = findIp()\n",
    "    userPort = 1234\n",
    "    print(\"Your Computer IP is:\\t\" + userIp)\n",
    "    \n",
    "    send = threading.Thread(target = sender, args=(global_senderIp,))\n",
    "    recieve = threading.Thread(target = reciever, args=(userIp,userPort,))\n",
    "    send.start()\n",
    "    recieve.start()\n",
    "    #sender()"
   ]
  },
  {
   "cell_type": "code",
   "execution_count": 8,
   "metadata": {},
   "outputs": [
    {
     "name": "stdout",
     "output_type": "stream",
     "text": [
      "Your Computer IP is:\t192.168.99.1\n",
      "Enter the IP address of the reciever\t -->  8.8.8.8\n",
      "\t message ->\t\t message ->\t"
     ]
    },
    {
     "name": "stderr",
     "output_type": "stream",
     "text": [
      "Exception in thread Thread-6:\n",
      "Traceback (most recent call last):\n",
      "  File \"<ipython-input-4-1007b13c81cb>\", line 12, in sender\n",
      "    s.sendto(input(\"\\t message ->\\t\").encode(),(senderIp,1234))\n",
      "EOFError: EOF when reading a line\n",
      "\n",
      "During handling of the above exception, another exception occurred:\n",
      "\n",
      "Traceback (most recent call last):\n",
      "  File \"C:\\Users\\gg415\\anaconda3\\lib\\threading.py\", line 926, in _bootstrap_inner\n",
      "    self.run()\n",
      "  File \"C:\\Users\\gg415\\anaconda3\\lib\\threading.py\", line 870, in run\n",
      "    self._target(*self._args, **self._kwargs)\n",
      "  File \"<ipython-input-4-1007b13c81cb>\", line 14, in sender\n",
      "    s.sendto(input(\"\\t message ->\\t\").encode(),(senderIp,1234))\n",
      "EOFError: EOF when reading a line\n",
      "\n"
     ]
    }
   ],
   "source": [
    "startChat()"
   ]
  },
  {
   "cell_type": "code",
   "execution_count": null,
   "metadata": {},
   "outputs": [],
   "source": [
    "\n",
    "try:\n",
    "    n = int(input())\n",
    "    print(n * 10)\n",
    "    \n",
    "except EOFError as e:\n",
    "    print(e)"
   ]
  },
  {
   "cell_type": "code",
   "execution_count": 1,
   "metadata": {},
   "outputs": [],
   "source": [
    "# Accessing the Video"
   ]
  },
  {
   "cell_type": "code",
   "execution_count": 2,
   "metadata": {},
   "outputs": [],
   "source": [
    "#import cv2"
   ]
  },
  {
   "cell_type": "code",
   "execution_count": 5,
   "metadata": {},
   "outputs": [],
   "source": [
    "import cv2\n",
    "  \n",
    "  \n",
    "# define a video capture object\n",
    "vid = cv2.VideoCapture(0)\n",
    "  \n",
    "while(True):\n",
    "      \n",
    "    # Capture the video frame\n",
    "    # by frame\n",
    "    ret, frame = vid.read()\n",
    "  \n",
    "    # Display the resulting frame\n",
    "    cv2.imshow('frame', frame)\n",
    "      \n",
    "    # the 'q' button is set as the\n",
    "    # quitting button you may use any\n",
    "    # desired button of your choice\n",
    "    if cv2.waitKey(1) & 0xFF == ord('q'):\n",
    "        break\n",
    "  \n",
    "# After the loop release the cap object\n",
    "vid.release()\n",
    "# Destroy all the windows\n",
    "cv2.destroyAllWindows()"
   ]
  },
  {
   "cell_type": "code",
   "execution_count": null,
   "metadata": {},
   "outputs": [],
   "source": []
  },
  {
   "cell_type": "code",
   "execution_count": null,
   "metadata": {},
   "outputs": [],
   "source": []
  },
  {
   "cell_type": "code",
   "execution_count": null,
   "metadata": {},
   "outputs": [],
   "source": []
  },
  {
   "cell_type": "code",
   "execution_count": 25,
   "metadata": {},
   "outputs": [
    {
     "name": "stdout",
     "output_type": "stream",
     "text": [
      "Your Computer IP is:\t192.168.99.1\n"
     ]
    },
    {
     "name": "stderr",
     "output_type": "stream",
     "text": [
      "Exception in thread Thread-17:\n",
      "Traceback (most recent call last):\n",
      "  File \"C:\\Users\\gg415\\anaconda3\\lib\\threading.py\", line 926, in _bootstrap_inner\n",
      "    self.run()\n",
      "  File \"C:\\Users\\gg415\\anaconda3\\lib\\threading.py\", line 870, in run\n",
      "    self._target(*self._args, **self._kwargs)\n",
      "  File \"<ipython-input-25-b109c512069b>\", line 8, in reciever\n",
      "    s.bind((userIp,userPort))\n",
      "OSError: [WinError 10048] Only one usage of each socket address (protocol/network address/port) is normally permitted\n",
      "\n"
     ]
    },
    {
     "name": "stdout",
     "output_type": "stream",
     "text": [
      "Enter the IP address of the reciever\t -->  192.\n",
      "\t message ->\tEOF when reading a line\n"
     ]
    },
    {
     "name": "stderr",
     "output_type": "stream",
     "text": [
      "Exception in thread Thread-16:\n",
      "Traceback (most recent call last):\n",
      "  File \"C:\\Users\\gg415\\anaconda3\\lib\\threading.py\", line 926, in _bootstrap_inner\n",
      "    self.run()\n",
      "  File \"C:\\Users\\gg415\\anaconda3\\lib\\threading.py\", line 870, in run\n",
      "    self._target(*self._args, **self._kwargs)\n",
      "  File \"<ipython-input-25-b109c512069b>\", line 28, in sender\n",
      "    s.sendto(message.encode(),(senderIp,1234))\n",
      "UnboundLocalError: local variable 'message' referenced before assignment\n",
      "\n"
     ]
    }
   ],
   "source": [
    "import socket\n",
    "import threading\n",
    "\n",
    "s = socket.socket(socket.AF_INET, socket.SOCK_DGRAM)\n",
    "global_senderIp = 0\n",
    "def reciever(userIp,userPort):\n",
    "    \n",
    "    s.bind((userIp,userPort))\n",
    "    while True:\n",
    "        x = s.recvfrom(1024)\n",
    "        senderIp = x[1][0]\n",
    "        senderMessage = x[0].decode()\n",
    "        print(\"\\t\"+senderIp+\"  :  \"+senderMessage)\n",
    "        #print(x)\n",
    "        global_senderIp = senderIp\n",
    "\n",
    "    \n",
    "        \n",
    "def sender(senderIp):\n",
    "    if(senderIp==0):\n",
    "        senderIP = input(\"Enter the IP address of the reciever\\t -->  \")\n",
    "    try:\n",
    "        message = input(\"\\t message ->\\t\")\n",
    "        \n",
    "    except EOFError as e:\n",
    "        print(e)\n",
    "        pass\n",
    "    s.sendto(message.encode(),(senderIp,1234))\n",
    "        \n",
    "def findIp():   \n",
    "    hostname = socket.gethostname()    \n",
    "    hostIp = socket.gethostbyname(hostname)    \n",
    "    #print(\"Your Computer Name is:\" + hostname)    \n",
    "    return(hostIp)\n",
    "\n",
    "\n",
    "def startChat():\n",
    "    userIp = findIp()\n",
    "    userPort = 1235\n",
    "    print(\"Your Computer IP is:\\t\" + userIp)\n",
    "    \n",
    "    send = threading.Thread(target = sender, args=(global_senderIp,))\n",
    "    recieve = threading.Thread(target = reciever, args=(userIp,userPort,))\n",
    "    send.start()\n",
    "    recieve.start()\n",
    "    #sender()\n",
    "   \n",
    "    \n",
    "startChat()\n"
   ]
  },
  {
   "cell_type": "code",
   "execution_count": null,
   "metadata": {},
   "outputs": [],
   "source": []
  }
 ],
 "metadata": {
  "kernelspec": {
   "display_name": "Python 3",
   "language": "python",
   "name": "python3"
  },
  "language_info": {
   "codemirror_mode": {
    "name": "ipython",
    "version": 3
   },
   "file_extension": ".py",
   "mimetype": "text/x-python",
   "name": "python",
   "nbconvert_exporter": "python",
   "pygments_lexer": "ipython3",
   "version": "3.7.6"
  }
 },
 "nbformat": 4,
 "nbformat_minor": 4
}
